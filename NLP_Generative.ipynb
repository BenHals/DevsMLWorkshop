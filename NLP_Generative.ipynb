{
 "cells": [
  {
   "cell_type": "markdown",
   "id": "aa117aab",
   "metadata": {},
   "source": [
    "# Machine Learning for generating text"
   ]
  },
  {
   "cell_type": "code",
   "execution_count": null,
   "id": "a8671027",
   "metadata": {},
   "outputs": [],
   "source": [
    "import pathlib\n",
    "import random\n",
    "import numpy as np\n",
    "\n",
    "data_path = pathlib.Path('data')"
   ]
  }
 ],
 "metadata": {
  "kernelspec": {
   "display_name": "Python 3",
   "language": "python",
   "name": "python3"
  },
  "language_info": {
   "codemirror_mode": {
    "name": "ipython",
    "version": 3
   },
   "file_extension": ".py",
   "mimetype": "text/x-python",
   "name": "python",
   "nbconvert_exporter": "python",
   "pygments_lexer": "ipython3",
   "version": "3.5.6"
  }
 },
 "nbformat": 4,
 "nbformat_minor": 5
}
